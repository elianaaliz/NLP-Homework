{
 "cells": [
  {
   "cell_type": "markdown",
   "id": "8c8958fd",
   "metadata": {},
   "source": [
    "# Parte 2 -  Etapa de Pre-procesado de texto"
   ]
  },
  {
   "cell_type": "code",
   "execution_count": 1,
   "id": "1996953f",
   "metadata": {},
   "outputs": [],
   "source": [
    "import pandas as pd\n",
    "import matplotlib.pyplot as plt\n",
    "import numpy as np\n",
    "import random\n",
    "import glob\n",
    "import os\n",
    "\n",
    "import gensim \n",
    "import unicodedata\n",
    "from num2words import num2words\n",
    "from nltk import RegexpTokenizer\n",
    "from stop_words import get_stop_words\n",
    "from nltk.stem import WordNetLemmatizer\n",
    "\n",
    "from sklearn.model_selection import train_test_split\n",
    "from sklearn.feature_extraction.text import CountVectorizer, TfidfVectorizer\n",
    "from sklearn.feature_selection import chi2\n",
    "from sklearn.linear_model import LogisticRegression\n",
    "from sklearn.metrics import accuracy_score, confusion_matrix, classification_report, roc_curve, precision_recall_curve\n",
    "\n",
    "from sklearn.ensemble import GradientBoostingClassifier"
   ]
  },
  {
   "cell_type": "markdown",
   "id": "d5fedc1b",
   "metadata": {},
   "source": [
    "### Pipeline de pre-procesado"
   ]
  },
  {
   "cell_type": "code",
   "execution_count": 2,
   "id": "4a0c3196",
   "metadata": {},
   "outputs": [],
   "source": [
    "def pipeline(path, size_df, columna):    \n",
    "    \n",
    "    def list_to_words(text):\n",
    "        \"\"\"Definimos una función para que nos devuelve las reviews tratadas\"\"\"   \n",
    "        \n",
    "        clean_text = [] \n",
    "        for word in RegexpTokenizer(r\"\\w+\\'\\w+|\\w+\").tokenize(text):\n",
    "            if word.lower() not in get_stop_words('en'):\n",
    "                clean_word = WordNetLemmatizer().lemmatize(word).lower().strip()\n",
    "                if clean_word.isdigit():\n",
    "                    clean_word = num2words(clean_word, lang='en')\n",
    "                if (len(clean_word) > 3):\n",
    "                    clean_text.append(clean_word)  \n",
    "        return ' '.join(clean_text)\n",
    "\n",
    "    \n",
    "    def text_preprocessing(text):\n",
    "    \n",
    "        clean_text = []\n",
    "        for token in gensim.utils.simple_preprocess(text):\n",
    "            if token not in gensim.parsing.preprocessing.STOPWORDS and len(token) > 3:\n",
    "                clean_text.append(token)\n",
    "        return ' '.join(clean_text)\n",
    "    \n",
    "    '''carga de datos'''\n",
    "    data_reviews = pd.read_json(path, lines=True, \n",
    "                                compression='gzip')[:size_df][[columna, 'overall']]\n",
    "    \n",
    "    #Etiquetamos las reviews de 1 y 2 estrellas como 0 y los de 3, 4 y 5 como 1    \n",
    "    data_reviews.overall = [1 if int(row) > 2 else 0 for row in data_reviews.overall]\n",
    "    \n",
    "    '''Balanceo de etiquetas'''\n",
    "    label_1, label_0 = data_reviews['overall'].value_counts()\n",
    "\n",
    "    data_reviews = pd.concat([data_reviews[data_reviews.overall == 1].sample(label_0 * 1),\n",
    "                                data_reviews[data_reviews.overall == 0]],\n",
    "                               axis=0)\n",
    "    \n",
    "    '''Procesado de las reviews''' \n",
    "    \n",
    "    #con list_to_words(text)    \n",
    "    processed_texts = []\n",
    "    for text in data_reviews.reviewText:\n",
    "        processed_texts.append(list_to_words(text))\n",
    "    data_reviews.reviewText = processed_texts\n",
    "    \n",
    "    #con text_preprocessing(text)    \n",
    "    '''processed_texts = []\n",
    "    for text in data_reviews.reviewText:\n",
    "        processed_texts.append(text_preprocessing(text))\n",
    "    data_reviews.reviewText = processed_texts'''\n",
    "    \n",
    "     \n",
    "    '''Train y test'''\n",
    "    \n",
    "    X_train, X_test, y_train, y_test = train_test_split(\n",
    "        data_reviews.reviewText,\n",
    "        data_reviews.overall,   \n",
    "        test_size=0.3,\n",
    "        random_state=42,\n",
    "        shuffle=True\n",
    "    )\n",
    "    \n",
    "    '''Features'''\n",
    "    \n",
    "    cv = TfidfVectorizer(\n",
    "        max_df = 0.95,  # Eliminamos el 5% de los tokens más frecuentes\n",
    "        min_df = 5, # Descartamos los tokens que no aparezcan al menos 5 veces\n",
    "        max_features = 3000, # Elección de nuestro vocabulario\n",
    "        strip_accents = 'ascii',\n",
    "        ngram_range = (1, 1)  #bigramas y trigramas  #Nos quedamos con palabras, funciona mejor el modelo.\n",
    "    )\n",
    "    cv.fit(X_train)\n",
    "    \n",
    "    '''TF-IDF scores del training set y test set'''\n",
    "    \n",
    "    X_train_ = cv.transform(X_train)\n",
    "    X_test_ = cv.transform(X_test)\n",
    "    \n",
    "    return data_reviews, cv, X_train, X_test, y_train, y_test, X_train_, X_test_"
   ]
  },
  {
   "cell_type": "code",
   "execution_count": 3,
   "id": "d5042e9d",
   "metadata": {},
   "outputs": [],
   "source": [
    "#!wget http://snap.stanford.edu/data/amazon/productGraph/categoryFiles/reviews_Amazon_Instant_Video_5.json.gz\n",
    "data_reviews, cv, X_train, X_test, y_train, y_test, X_train_, X_test_ =\\\n",
    "                       pipeline('reviews_Amazon_Instant_Video_5.json.gz',37126,'reviewText')"
   ]
  },
  {
   "cell_type": "code",
   "execution_count": 4,
   "id": "25d5df09",
   "metadata": {},
   "outputs": [],
   "source": [
    "data_summary, cv_summary, X_train_summary, X_test_summary,\\\n",
    "      y_train_summary, y_test_summary, X_train_summary_, X_test_summary_ =\\\n",
    "                       pipeline('reviews_Amazon_Instant_Video_5.json.gz',37126,'reviewText')"
   ]
  },
  {
   "cell_type": "markdown",
   "id": "9f9b68f7",
   "metadata": {},
   "source": [
    "### Chi-cuadrado score"
   ]
  },
  {
   "cell_type": "code",
   "execution_count": 5,
   "id": "3a8d3491",
   "metadata": {
    "scrolled": true
   },
   "outputs": [
    {
     "data": {
      "image/png": "[encoded data removed]",
      "text/plain": [
       "<Figure size 1200x800 with 1 Axes>"
      ]
     },
     "metadata": {},
     "output_type": "display_data"
    }
   ],
   "source": [
    "i = 15\n",
    "\n",
    "chi2score = chi2(X_train_, y_train)[0]\n",
    "scores = list(zip(cv.get_feature_names(), chi2score))\n",
    "sorted_scores = sorted(scores, key=lambda x:x[1])\n",
    "topchi2 = list(zip(*sorted_scores[-i:]))\n",
    "x = range(len(topchi2[1]))\n",
    "labels = topchi2[0]\n",
    "\n",
    "plt.figure(figsize=(12, 8))\n",
    "plt.barh(x,topchi2[1], align='center', alpha=0.5)\n",
    "plt.plot(topchi2[1], x, '-o', markersize=5, alpha=0.8)\n",
    "plt.yticks(x, labels, fontsize=12)\n",
    "plt.xlabel('$\\chi^2$', fontsize=26)\n",
    "plt.ylabel('word', fontsize=16)\n",
    "plt.title('Top {} $\\chi^2$ score for each word in the training set'.format(i), fontsize=20)\n",
    "plt.grid()\n",
    "plt.tight_layout()\n",
    "plt.show();"
   ]
  },
  {
   "cell_type": "code",
   "execution_count": 6,
   "id": "92551e28",
   "metadata": {},
   "outputs": [
    {
     "data": {
      "image/png": "[encoded data removed]",
      "text/plain": [
       "<Figure size 1200x800 with 1 Axes>"
      ]
     },
     "metadata": {},
     "output_type": "display_data"
    }
   ],
   "source": [
    "i = 15\n",
    "\n",
    "chi2score = chi2(X_train_summary_, y_train_summary)[0]\n",
    "scores = list(zip(cv.get_feature_names(), chi2score))\n",
    "sorted_scores = sorted(scores, key=lambda x:x[1])\n",
    "topchi2 = list(zip(*sorted_scores[-i:]))\n",
    "x = range(len(topchi2[1]))\n",
    "labels = topchi2[0]\n",
    "\n",
    "plt.figure(figsize=(12, 8))\n",
    "plt.barh(x,topchi2[1], align='center', alpha=0.5)\n",
    "plt.plot(topchi2[1], x, '-o', markersize=5, alpha=0.8)\n",
    "plt.yticks(x, labels, fontsize=12)\n",
    "plt.xlabel('$\\chi^2$', fontsize=26)\n",
    "plt.ylabel('word', fontsize=16)\n",
    "plt.title('Top {} $\\chi^2$ score for each word in the training set'.format(i), fontsize=20)\n",
    "plt.grid()\n",
    "plt.tight_layout()\n",
    "plt.show();"
   ]
  },
  {
   "cell_type": "markdown",
   "id": "8f181001",
   "metadata": {},
   "source": [
    "# Parte 3 -  Etapa de entrenamiento y testeo de un modelo de análisis de sentimiento"
   ]
  },
  {
   "cell_type": "markdown",
   "id": "5453321b",
   "metadata": {},
   "source": [
    "#### Guardamos 20 reviews para hacer pruebas"
   ]
  },
  {
   "cell_type": "code",
   "execution_count": 7,
   "id": "289180ef",
   "metadata": {},
   "outputs": [],
   "source": [
    "reviews = X_train[-20:]\n",
    "X = X_train_[-20:]\n",
    "y = y_train.iloc[-20:]\n",
    "\n",
    "X_train = X_train_[:-20]\n",
    "y_train = y_train.iloc[:-20]"
   ]
  },
  {
   "cell_type": "code",
   "execution_count": 8,
   "id": "da7c22ef",
   "metadata": {},
   "outputs": [],
   "source": [
    "reviews_summary = X_train_summary[-20:]\n",
    "X_summary = X_train_summary_[-20:]\n",
    "y_summary = y_train_summary.iloc[-20:]\n",
    "\n",
    "X_train_summary = X_train_summary_[:-20]\n",
    "y_train_summary = y_train_summary.iloc[:-20]"
   ]
  },
  {
   "cell_type": "markdown",
   "id": "6d93def2",
   "metadata": {},
   "source": [
    "## Modelo 1 Regresión Logística"
   ]
  },
  {
   "cell_type": "code",
   "execution_count": 9,
   "id": "2c75c698",
   "metadata": {},
   "outputs": [
    {
     "name": "stdout",
     "output_type": "stream",
     "text": [
      "c_params    1.000000\n",
      "train       0.884156\n",
      "test        0.812211\n",
      "Name: 7, dtype: float64\n"
     ]
    }
   ],
   "source": [
    "df = pd.DataFrame(columns = ['c_params', 'train', 'test'])\n",
    "\n",
    "for c in [0.01, 0.02, 0.03, 0.04, 0.05, 0.25, 0.5, 1, 10, 100, 1000]:\n",
    "    \n",
    "    lr = LogisticRegression(C = c, solver = 'lbfgs', max_iter = 500)\n",
    "    lr.fit(X_train, y_train)\n",
    "    \n",
    "    df = df.append({'c_params' : c,\n",
    "                    'train' : accuracy_score(y_train, lr.predict(X_train)),\n",
    "                    'test' : accuracy_score(y_test, lr.predict(X_test_))},\n",
    "                   ignore_index = True)\n",
    "\n",
    "print(df.sort_values('test').iloc[-1])"
   ]
  },
  {
   "cell_type": "markdown",
   "id": "1f4ad410",
   "metadata": {},
   "source": [
    "#### Se observa que el mejor resultado en test se obtiene en c = 1"
   ]
  },
  {
   "cell_type": "code",
   "execution_count": 10,
   "id": "6947f37c",
   "metadata": {},
   "outputs": [
    {
     "name": "stdout",
     "output_type": "stream",
     "text": [
      "c_params    1.000000\n",
      "train       0.894108\n",
      "test        0.823774\n",
      "Name: 7, dtype: float64\n"
     ]
    }
   ],
   "source": [
    "df = pd.DataFrame(columns = ['c_params', 'train', 'test'])\n",
    "\n",
    "for c in [0.01, 0.02, 0.03, 0.04, 0.05, 0.25, 0.5, 1, 10, 100, 1000]:\n",
    "    \n",
    "    lr = LogisticRegression(C = c, solver = 'lbfgs', max_iter = 500)\n",
    "    lr.fit(X_train_summary, y_train_summary)\n",
    "    \n",
    "    df = df.append({'c_params' : c,\n",
    "                    'train' : accuracy_score(y_train_summary, lr.predict(X_train_summary)),\n",
    "                    'test' : accuracy_score(y_test_summary, lr.predict(X_test_summary_))},\n",
    "                   ignore_index = True)\n",
    "\n",
    "print(df.sort_values('test').iloc[-1])"
   ]
  },
  {
   "cell_type": "markdown",
   "id": "9fa76032",
   "metadata": {},
   "source": [
    "#### Se observa que el mejor resultado en test se obtiene en c = 1"
   ]
  },
  {
   "cell_type": "markdown",
   "id": "31048665",
   "metadata": {},
   "source": [
    "## Modelo 2 GradientBoostingClassifier"
   ]
  },
  {
   "cell_type": "code",
   "execution_count": 11,
   "id": "8f576d20",
   "metadata": {},
   "outputs": [
    {
     "name": "stdout",
     "output_type": "stream",
     "text": [
      "n_estimators     100.000000\n",
      "learning_rate      0.500000\n",
      "max_depth          2.000000\n",
      "train              0.890725\n",
      "test               0.771970\n",
      "Name: 8, dtype: float64\n"
     ]
    }
   ],
   "source": [
    "df = pd.DataFrame(columns = ['n_estimators', 'learning_rate', 'max_depth', 'train', 'test'])\n",
    "\n",
    "for m in [1, 2]:\n",
    "    for c in [50, 100, 150]:\n",
    "        for l in [0.5, 1]:\n",
    "            clf = GradientBoostingClassifier(n_estimators = c,\n",
    "                                             learning_rate = l,\n",
    "                                             max_depth = m, \n",
    "                                             random_state = 42)\n",
    "            clf.fit(X_train, y_train)   \n",
    "            df = df.append({'n_estimators' : c,\n",
    "                            'learning_rate' : l,\n",
    "                            'max_depth' : m,\n",
    "                            'train' : accuracy_score(y_train, clf.predict(X_train)),\n",
    "                            'test' : accuracy_score(y_test, clf.predict(X_test_))},\n",
    "                           ignore_index = True)\n",
    "\n",
    "print(df.sort_values('test').iloc[-1])"
   ]
  },
  {
   "cell_type": "markdown",
   "id": "e09d15e0",
   "metadata": {},
   "source": [
    "#### Se observa que el mejor resultado en test se obtiene en n_estimators = 100, learning_rate = 0.5 y max_depth = 2"
   ]
  },
  {
   "cell_type": "code",
   "execution_count": 12,
   "id": "cac154e7",
   "metadata": {},
   "outputs": [
    {
     "name": "stdout",
     "output_type": "stream",
     "text": [
      "n_estimators     150.000000\n",
      "learning_rate      0.500000\n",
      "max_depth          2.000000\n",
      "train              0.924562\n",
      "test               0.790472\n",
      "Name: 10, dtype: float64\n"
     ]
    }
   ],
   "source": [
    "df = pd.DataFrame(columns = ['n_estimators', 'learning_rate', 'max_depth', 'train', 'test'])\n",
    "\n",
    "for m in [1, 2]:\n",
    "    for c in [50, 100, 150]:\n",
    "        for l in [0.5, 1]:\n",
    "            clf = GradientBoostingClassifier(n_estimators = c,\n",
    "                                             learning_rate = l,\n",
    "                                             max_depth = m, \n",
    "                                             random_state = 42)\n",
    "            clf.fit(X_train_summary, y_train_summary)   \n",
    "            df = df.append({'n_estimators' : c,\n",
    "                            'learning_rate' : l,\n",
    "                            'max_depth' : m,\n",
    "                            'train' : accuracy_score(y_train_summary, clf.predict(X_train_summary)),\n",
    "                            'test' : accuracy_score(y_test_summary, clf.predict(X_test_summary_))},\n",
    "                           ignore_index = True)\n",
    "\n",
    "print(df.sort_values('test').iloc[-1])"
   ]
  },
  {
   "cell_type": "markdown",
   "id": "8f079831",
   "metadata": {},
   "source": [
    "#### Se observa  que el mejor resultado en test se obtiene en n_estimators = 150, learning_rate = 0.5 y max_depth = 2"
   ]
  },
  {
   "cell_type": "markdown",
   "id": "383226c2",
   "metadata": {},
   "source": [
    "### Pruebas"
   ]
  },
  {
   "cell_type": "code",
   "execution_count": 13,
   "id": "3432f2dd",
   "metadata": {},
   "outputs": [
    {
     "name": "stdout",
     "output_type": "stream",
     "text": [
      "Review :\n",
      "\"four five starsi even know based book watched entity unto great time funny weird creative unique coscarelli certainly learned making movie since classic cheesy phantasm year actually look good cheesy effect work well tongue cheek presented love good flying moustache laughed many time also brain massaged nicely various time story line mixed guess read book much better many review glad zero expectation going cast surprisingly solid know something's good giamatti agrees serious skill always lends weight anything sure play straight goofy just right really surprise highly recommended anyone like good self mocking movie full good plot brain twist\"\n",
      "Pred lr: 1  Pred clf2 : 0\n",
      "Real : 1\n",
      "------------------\n",
      "Review :\n",
      "\"performances kinnear holmes pepper wilkenson excellent pleased production value watched twice will watch drawn kennedy believe production capture truth\"\n",
      "Pred lr: 1  Pred clf2 : 0\n",
      "Real : 1\n",
      "------------------\n",
      "Review :\n",
      "\"streaming quality great story line detail fairly accurate history genre think will find series highly entertaining vikings warlike heroic culture hero's story might endearing viewer exactly align culture moral standard said acting great costume awesome storyline parallel history character colorful believable anxiously awaiting season idea many season dedicated story season indication series going steamroller action\"\n",
      "Pred lr: 1  Pred clf2 : 0\n",
      "Real : 1\n",
      "------------------\n",
      "Review :\n",
      "\"different season thirty-four team thirty-four sport speak watched every season andknow contestant despise thirty-four team thirty-four effort love gunn\"\n",
      "Pred lr: 0  Pred clf2 : 0\n",
      "Real : 1\n",
      "------------------\n",
      "Review :\n",
      "\"truly amazing people thru really feel people loose\"\n",
      "Pred lr: 0  Pred clf2 : 0\n",
      "Real : 1\n",
      "------------------\n",
      "Review :\n",
      "\"great show plot little boring around awesome show hope season keep coming\"\n",
      "Pred lr: 1  Pred clf2 : 0\n",
      "Real : 1\n",
      "------------------\n",
      "Review :\n",
      "\"year love husband thing nerve candane annoying drama queen mushy love stuff candace jeremy isabella phineas adult evil villian scary perry evil funny physical violence short lived still short lived take look think watch meant older seven\"\n",
      "Pred lr: 0  Pred clf2 : 0\n",
      "Real : 1\n",
      "------------------\n",
      "Review :\n",
      "\"just premier episode last thursday horrible terrible acting terrible script character just extremely annoying\"\n",
      "Pred lr: 0  Pred clf2 : 0\n",
      "Real : 0\n",
      "------------------\n",
      "Review :\n",
      "\"show funny satisfied witless trite humor watched good rating bound entertaining consider waste time writer really went hanging fruit truly letdown caliber humor might expect show hope amazon pursue\"\n",
      "Pred lr: 0  Pred clf2 : 1\n",
      "Real : 0\n",
      "------------------\n",
      "Review :\n",
      "\"kidding thing painfully suffering watching worst horror film time scary concept poor watch want waste time money\"\n",
      "Pred lr: 1  Pred clf2 : 0\n",
      "Real : 0\n",
      "------------------\n",
      "Review :\n",
      "\"show seems realistic show however pretty boring producer show scene commercial break also seemed pretty dramatized recommend watching unless looking something help fall asleep\"\n",
      "Pred lr: 0  Pred clf2 : 1\n",
      "Real : 0\n",
      "------------------\n",
      "Review :\n",
      "\"matter season love grew harley's hung bike shop understand relate violence definitely\"\n",
      "Pred lr: 1  Pred clf2 : 0\n",
      "Real : 1\n",
      "------------------\n",
      "Review :\n",
      "\"specifically episode thirty-four fire brimstone thirty-four amazon lost licensing agreement play episode unbelievable type snafu unacceptable consumer viewer subscriber paid good money view favorite show together amazon bring back mentalist\"\n",
      "Pred lr: 0  Pred clf2 : 0\n",
      "Real : 0\n",
      "------------------\n",
      "Review :\n",
      "\"update nope tried view entire episode season just show title state addict need help addiction kind healthy family life series designed instruct anything time consuming money sucking addiction well guess useful think show house project proper show along many show diynetwork contrived sadly network started good intention fell victim wanting produce commercially viable fodder rather truly provide actual helpful information contrived staged drama awkward start show twenty-three minute long recap recap recap edited removed commercial break actual show editing incredibly erratic first episode inspection work discussed alone shown progress watch second episode glossed unrealistic timewise state specific time according weather state landscaping sure ain't three week whining guessing petite blonde single real estate agent well house flipper supposedly majority work house subject series wonder find time parent child pain write huge freak show snoopy happy dance delighted finally show amazonprime even netflix show settled marathon fest reality watched first episode gagged second episode part third give fair shake just please amazon bring useful show diynetwork show produced rating imparting real honest useful information want show like house house hometime basically anything thank\"\n",
      "Pred lr: 0  Pred clf2 : 0\n",
      "Real : 0\n",
      "------------------\n",
      "Review :\n",
      "\"loved book loved pilot titus welliver isan excellent actor thrilled often transition visual medium disappoints well acted well cast well produced pilot going recommend fellow mystery pleasure show cliche ridden formula great\"\n",
      "Pred lr: 0  Pred clf2 : 0\n",
      "Real : 1\n",
      "------------------\n",
      "Review :\n",
      "\"one hundred and thirteen people amazon rate show five star people please show lame believe prime sorry even paid season pathetic\"\n",
      "Pred lr: 0  Pred clf2 : 1\n",
      "Real : 0\n",
      "------------------\n",
      "Review :\n",
      "\"much television show sure cover none good good thing show managed cast kevin bacon usually guaranteed sign quality take back something else good show premise first episode following promising sheer sense show great promise serial killer back story detective history relationship serial killer's wife serial killer commit crime prison cult following psycho great idea squandered reason idea squandered opinion simple reason following trying twenty-four effort relentless stop intense action thrill following throw event every five minute therefore instead intelligently fleshed hastily fleshed every five minute show open continuous ridicule stupid teenage criminal stupid agent known better criminal tracked followed just plain illogical assumption story arch instead creator research giving reason think carroll serial killer brilliant left just assume instead intelligently thought show relies upon gimmick murderer murder talk murderer reason leave someone alive person supposed victim explaining murderer kill said kill live hostage slow dead well nice thanks info detective held three teenage murderer whittling rope hidden knife despite standing foot away serial killer just call detective pretty much every episode nice chat tell screwed mainly though twenty-four format show asks creator explain escape blunder every five minute episode gimmick continues show becomes roll boring absolutely zero tension tension intelligence zero tact show show like take time explain reasoning thing happened worked following time explanation ridiculous nobody giving show five star opinion nobody great show nowhere close terrible show like star suggests think maybe harsh show much promise lucky people making millions dollars entertain give something absolutely anybody basic writing skill write harsh writer director zero tact make attempt intelligent tact just give every horror thriller cliche book expect drool return every week thanks star baby lack effort\"\n",
      "Pred lr: 0  Pred clf2 : 0\n",
      "Real : 0\n",
      "------------------\n",
      "Review :\n",
      "\"ever past second episode seemed centered around scene talk recommend\"\n",
      "Pred lr: 0  Pred clf2 : 0\n",
      "Real : 0\n",
      "------------------\n",
      "Review :\n",
      "\"particularly good looks like flash animation good dialog sound like woman voice acting just read script recorded think supposed sassy street smart girl come across wannabe smart overall just\"\n",
      "Pred lr: 0  Pred clf2 : 1\n",
      "Real : 0\n",
      "------------------\n",
      "Review :\n",
      "\"vikings interesting show depicts viking life dark will raping pillaging vikings comfort home\"\n",
      "Pred lr: 0  Pred clf2 : 0\n",
      "Real : 1\n",
      "------------------\n"
     ]
    }
   ],
   "source": [
    "for i in range (20):\n",
    "    print(f'Review :\\n\"{reviews.iloc[i]}\"')\n",
    "    print(f\"Pred lr: {lr.predict(X[i])[0]}  Pred clf2 : {clf.predict(X[i])[0]}\")\n",
    "    print(f\"Real : {y.iloc[i]}\")\n",
    "    print(\"------------------\")"
   ]
  },
  {
   "cell_type": "code",
   "execution_count": 14,
   "id": "478a8b4c",
   "metadata": {},
   "outputs": [
    {
     "name": "stdout",
     "output_type": "stream",
     "text": [
      "Review :\n",
      "\"four five starsi even know based book watched entity unto great time funny weird creative unique coscarelli certainly learned making movie since classic cheesy phantasm year actually look good cheesy effect work well tongue cheek presented love good flying moustache laughed many time also brain massaged nicely various time story line mixed guess read book much better many review glad zero expectation going cast surprisingly solid know something's good giamatti agrees serious skill always lends weight anything sure play straight goofy just right really surprise highly recommended anyone like good self mocking movie full good plot brain twist\"\n",
      "Pred lr: 0  Pred clf2 : 0\n",
      "Real : 1\n",
      "------------------\n",
      "Review :\n",
      "\"performances kinnear holmes pepper wilkenson excellent pleased production value watched twice will watch drawn kennedy believe production capture truth\"\n",
      "Pred lr: 1  Pred clf2 : 1\n",
      "Real : 1\n",
      "------------------\n",
      "Review :\n",
      "\"streaming quality great story line detail fairly accurate history genre think will find series highly entertaining vikings warlike heroic culture hero's story might endearing viewer exactly align culture moral standard said acting great costume awesome storyline parallel history character colorful believable anxiously awaiting season idea many season dedicated story season indication series going steamroller action\"\n",
      "Pred lr: 1  Pred clf2 : 1\n",
      "Real : 1\n",
      "------------------\n",
      "Review :\n",
      "\"different season thirty-four team thirty-four sport speak watched every season andknow contestant despise thirty-four team thirty-four effort love gunn\"\n",
      "Pred lr: 0  Pred clf2 : 1\n",
      "Real : 1\n",
      "------------------\n",
      "Review :\n",
      "\"truly amazing people thru really feel people loose\"\n",
      "Pred lr: 1  Pred clf2 : 1\n",
      "Real : 1\n",
      "------------------\n",
      "Review :\n",
      "\"great show plot little boring around awesome show hope season keep coming\"\n",
      "Pred lr: 0  Pred clf2 : 1\n",
      "Real : 1\n",
      "------------------\n",
      "Review :\n",
      "\"year love husband thing nerve candane annoying drama queen mushy love stuff candace jeremy isabella phineas adult evil villian scary perry evil funny physical violence short lived still short lived take look think watch meant older seven\"\n",
      "Pred lr: 0  Pred clf2 : 0\n",
      "Real : 1\n",
      "------------------\n",
      "Review :\n",
      "\"just premier episode last thursday horrible terrible acting terrible script character just extremely annoying\"\n",
      "Pred lr: 0  Pred clf2 : 0\n",
      "Real : 0\n",
      "------------------\n",
      "Review :\n",
      "\"show funny satisfied witless trite humor watched good rating bound entertaining consider waste time writer really went hanging fruit truly letdown caliber humor might expect show hope amazon pursue\"\n",
      "Pred lr: 1  Pred clf2 : 1\n",
      "Real : 0\n",
      "------------------\n",
      "Review :\n",
      "\"kidding thing painfully suffering watching worst horror film time scary concept poor watch want waste time money\"\n",
      "Pred lr: 0  Pred clf2 : 0\n",
      "Real : 0\n",
      "------------------\n",
      "Review :\n",
      "\"show seems realistic show however pretty boring producer show scene commercial break also seemed pretty dramatized recommend watching unless looking something help fall asleep\"\n",
      "Pred lr: 0  Pred clf2 : 0\n",
      "Real : 0\n",
      "------------------\n",
      "Review :\n",
      "\"matter season love grew harley's hung bike shop understand relate violence definitely\"\n",
      "Pred lr: 1  Pred clf2 : 1\n",
      "Real : 1\n",
      "------------------\n",
      "Review :\n",
      "\"specifically episode thirty-four fire brimstone thirty-four amazon lost licensing agreement play episode unbelievable type snafu unacceptable consumer viewer subscriber paid good money view favorite show together amazon bring back mentalist\"\n",
      "Pred lr: 0  Pred clf2 : 0\n",
      "Real : 0\n",
      "------------------\n",
      "Review :\n",
      "\"update nope tried view entire episode season just show title state addict need help addiction kind healthy family life series designed instruct anything time consuming money sucking addiction well guess useful think show house project proper show along many show diynetwork contrived sadly network started good intention fell victim wanting produce commercially viable fodder rather truly provide actual helpful information contrived staged drama awkward start show twenty-three minute long recap recap recap edited removed commercial break actual show editing incredibly erratic first episode inspection work discussed alone shown progress watch second episode glossed unrealistic timewise state specific time according weather state landscaping sure ain't three week whining guessing petite blonde single real estate agent well house flipper supposedly majority work house subject series wonder find time parent child pain write huge freak show snoopy happy dance delighted finally show amazonprime even netflix show settled marathon fest reality watched first episode gagged second episode part third give fair shake just please amazon bring useful show diynetwork show produced rating imparting real honest useful information want show like house house hometime basically anything thank\"\n",
      "Pred lr: 0  Pred clf2 : 0\n",
      "Real : 0\n",
      "------------------\n",
      "Review :\n",
      "\"loved book loved pilot titus welliver isan excellent actor thrilled often transition visual medium disappoints well acted well cast well produced pilot going recommend fellow mystery pleasure show cliche ridden formula great\"\n",
      "Pred lr: 1  Pred clf2 : 1\n",
      "Real : 1\n",
      "------------------\n",
      "Review :\n",
      "\"one hundred and thirteen people amazon rate show five star people please show lame believe prime sorry even paid season pathetic\"\n",
      "Pred lr: 0  Pred clf2 : 0\n",
      "Real : 0\n",
      "------------------\n",
      "Review :\n",
      "\"much television show sure cover none good good thing show managed cast kevin bacon usually guaranteed sign quality take back something else good show premise first episode following promising sheer sense show great promise serial killer back story detective history relationship serial killer's wife serial killer commit crime prison cult following psycho great idea squandered reason idea squandered opinion simple reason following trying twenty-four effort relentless stop intense action thrill following throw event every five minute therefore instead intelligently fleshed hastily fleshed every five minute show open continuous ridicule stupid teenage criminal stupid agent known better criminal tracked followed just plain illogical assumption story arch instead creator research giving reason think carroll serial killer brilliant left just assume instead intelligently thought show relies upon gimmick murderer murder talk murderer reason leave someone alive person supposed victim explaining murderer kill said kill live hostage slow dead well nice thanks info detective held three teenage murderer whittling rope hidden knife despite standing foot away serial killer just call detective pretty much every episode nice chat tell screwed mainly though twenty-four format show asks creator explain escape blunder every five minute episode gimmick continues show becomes roll boring absolutely zero tension tension intelligence zero tact show show like take time explain reasoning thing happened worked following time explanation ridiculous nobody giving show five star opinion nobody great show nowhere close terrible show like star suggests think maybe harsh show much promise lucky people making millions dollars entertain give something absolutely anybody basic writing skill write harsh writer director zero tact make attempt intelligent tact just give every horror thriller cliche book expect drool return every week thanks star baby lack effort\"\n",
      "Pred lr: 0  Pred clf2 : 0\n",
      "Real : 0\n",
      "------------------\n",
      "Review :\n",
      "\"ever past second episode seemed centered around scene talk recommend\"\n",
      "Pred lr: 0  Pred clf2 : 0\n",
      "Real : 0\n",
      "------------------\n",
      "Review :\n",
      "\"particularly good looks like flash animation good dialog sound like woman voice acting just read script recorded think supposed sassy street smart girl come across wannabe smart overall just\"\n",
      "Pred lr: 0  Pred clf2 : 0\n",
      "Real : 0\n",
      "------------------\n",
      "Review :\n",
      "\"vikings interesting show depicts viking life dark will raping pillaging vikings comfort home\"\n",
      "Pred lr: 1  Pred clf2 : 1\n",
      "Real : 1\n",
      "------------------\n"
     ]
    }
   ],
   "source": [
    "for i in range (20):\n",
    "    print(f'Review :\\n\"{reviews.iloc[i]}\"')\n",
    "    print(f\"Pred lr: {lr.predict(X_summary[i])[0]}  Pred clf2 : {clf.predict(X_summary[i])[0]}\")\n",
    "    print(f\"Real : {y_summary.iloc[i]}\")\n",
    "    print(\"------------------\")"
   ]
  },
  {
   "cell_type": "markdown",
   "id": "985fd54a",
   "metadata": {},
   "source": [
    "# Parte 4 - Reporte de métricas y conclusiones"
   ]
  },
  {
   "cell_type": "code",
   "execution_count": 19,
   "id": "6439d211",
   "metadata": {},
   "outputs": [
    {
     "name": "stdout",
     "output_type": "stream",
     "text": [
      "Confussion matrix:\n",
      "[[833 237]\n",
      " [256 836]]\n",
      "\n",
      "Classification report:\n",
      "              precision    recall  f1-score   support\n",
      "\n",
      "           0       0.76      0.78      0.77      1070\n",
      "           1       0.78      0.77      0.77      1092\n",
      "\n",
      "    accuracy                           0.77      2162\n",
      "   macro avg       0.77      0.77      0.77      2162\n",
      "weighted avg       0.77      0.77      0.77      2162\n",
      "\n",
      "Accuracy score:0.7719703977798335\n"
     ]
    }
   ],
   "source": [
    "clf = GradientBoostingClassifier(n_estimators = 100,\n",
    "                                     learning_rate = 0.5,\n",
    "                                     max_depth = 2, \n",
    "                                     random_state = 42)\n",
    "clf.fit(X_train, y_train)  \n",
    "\n",
    "print(f'Confussion matrix:\\n{confusion_matrix(y_test, clf.predict(X_test_))}')\n",
    "print(f'\\nClassification report:\\n{classification_report(y_test, clf.predict(X_test_))}')\n",
    "print(f'Accuracy score:{accuracy_score(y_test, clf.predict(X_test_))}')"
   ]
  },
  {
   "cell_type": "code",
   "execution_count": 16,
   "id": "392f916f",
   "metadata": {},
   "outputs": [
    {
     "name": "stdout",
     "output_type": "stream",
     "text": [
      "Confussion matrix:\n",
      "[[881 189]\n",
      " [217 875]]\n",
      "\n",
      "Classification report:\n",
      "              precision    recall  f1-score   support\n",
      "\n",
      "           0       0.80      0.82      0.81      1070\n",
      "           1       0.82      0.80      0.81      1092\n",
      "\n",
      "    accuracy                           0.81      2162\n",
      "   macro avg       0.81      0.81      0.81      2162\n",
      "weighted avg       0.81      0.81      0.81      2162\n",
      "\n",
      "Accuracy score:0.8122109158186864\n"
     ]
    }
   ],
   "source": [
    "lr = LogisticRegression(C = 1, solver = 'lbfgs', max_iter = 500)\n",
    "lr.fit(X_train, y_train)\n",
    "    \n",
    "print(f'Confussion matrix:\\n{confusion_matrix(y_test, lr.predict(X_test_))}')\n",
    "print(f'\\nClassification report:\\n{classification_report(y_test, lr.predict(X_test_))}')\n",
    "print(f'Accuracy score:{accuracy_score(y_test, lr.predict(X_test_))}')"
   ]
  },
  {
   "cell_type": "markdown",
   "id": "a0f80aa9",
   "metadata": {},
   "source": [
    "#### Se observa  que en este caso el mejor modelo ha sido la regresión logística."
   ]
  },
  {
   "cell_type": "code",
   "execution_count": 20,
   "id": "31edceeb",
   "metadata": {},
   "outputs": [
    {
     "name": "stdout",
     "output_type": "stream",
     "text": [
      "Confussion matrix:\n",
      "[[862 208]\n",
      " [245 847]]\n",
      "\n",
      "Classification report:\n",
      "              precision    recall  f1-score   support\n",
      "\n",
      "           0       0.78      0.81      0.79      1070\n",
      "           1       0.80      0.78      0.79      1092\n",
      "\n",
      "    accuracy                           0.79      2162\n",
      "   macro avg       0.79      0.79      0.79      2162\n",
      "weighted avg       0.79      0.79      0.79      2162\n",
      "\n",
      "Accuracy score:0.7904717853839038\n"
     ]
    }
   ],
   "source": [
    "clf = GradientBoostingClassifier(n_estimators = 150,\n",
    "                                     learning_rate = 0.5,\n",
    "                                     max_depth = 2, \n",
    "                                     random_state = 42)\n",
    "clf.fit(X_train_summary, y_train_summary)  \n",
    "\n",
    "print(f'Confussion matrix:\\n{confusion_matrix(y_test_summary, clf.predict(X_test_summary_))}')\n",
    "print(f'\\nClassification report:\\n{classification_report(y_test_summary, clf.predict(X_test_summary_))}')\n",
    "print(f'Accuracy score:{accuracy_score(y_test, clf.predict(X_test_summary_))}')"
   ]
  },
  {
   "cell_type": "code",
   "execution_count": 18,
   "id": "c8ed306a",
   "metadata": {},
   "outputs": [
    {
     "name": "stdout",
     "output_type": "stream",
     "text": [
      "Confussion matrix:\n",
      "[[901 169]\n",
      " [212 880]]\n",
      "\n",
      "Classification report:\n",
      "              precision    recall  f1-score   support\n",
      "\n",
      "           0       0.81      0.84      0.83      1070\n",
      "           1       0.84      0.81      0.82      1092\n",
      "\n",
      "    accuracy                           0.82      2162\n",
      "   macro avg       0.82      0.82      0.82      2162\n",
      "weighted avg       0.82      0.82      0.82      2162\n",
      "\n",
      "Accuracy score:0.8237742830712304\n"
     ]
    }
   ],
   "source": [
    "lr = LogisticRegression(C = 1, solver = 'lbfgs', max_iter = 500)\n",
    "lr.fit(X_train_summary, y_train_summary)\n",
    "    \n",
    "print(f'Confussion matrix:\\n{confusion_matrix(y_test_summary, lr.predict(X_test_summary_))}')\n",
    "print(f'\\nClassification report:\\n{classification_report(y_test_summary, lr.predict(X_test_summary_))}')\n",
    "print(f'Accuracy score:{accuracy_score(y_test_summary, lr.predict(X_test_summary_))}')"
   ]
  },
  {
   "cell_type": "markdown",
   "id": "00d6734d",
   "metadata": {},
   "source": [
    "#### Se observa  que en este caso el mejor modelo ha sido la regresión logística que incluso mejora un poco."
   ]
  }
 ],
 "metadata": {
  "kernelspec": {
   "display_name": "Python 3 (ipykernel)",
   "language": "python",
   "name": "python3"
  },
  "language_info": {
   "codemirror_mode": {
    "name": "ipython",
    "version": 3
   },
   "file_extension": ".py",
   "mimetype": "text/x-python",
   "name": "python",
   "nbconvert_exporter": "python",
   "pygments_lexer": "ipython3",
   "version": "3.9.7"
  }
 },
 "nbformat": 4,
 "nbformat_minor": 5
}
